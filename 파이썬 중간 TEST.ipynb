{
 "cells": [
  {
   "cell_type": "markdown",
   "metadata": {},
   "source": [
    "11. input()으로 사용자로부터 정수를 한 개 입력받아, 그 숫자를 숫자 크기만큼 반복해서 출력하는 파이썬 스크립트를 작성하세요. 이때 출력 앞에 공백을 한 칸 주어서, 입력과 출력이 구분되게 합니다.\n",
    "단, for문을 사용하세요\n",
    "입력:3\n",
    "출력:\n",
    "3\n",
    "3\n",
    "3"
   ]
  },
  {
   "cell_type": "code",
   "execution_count": 169,
   "metadata": {},
   "outputs": [
    {
     "name": "stdout",
     "output_type": "stream",
     "text": [
      "5\n",
      "5\n",
      "5\n",
      "5\n",
      "5\n"
     ]
    }
   ],
   "source": [
    "a=int(input())\n",
    "for i in range(a):\n",
    "    print(a, end=('\\n'))"
   ]
  },
  {
   "cell_type": "markdown",
   "metadata": {},
   "source": [
    "12. input()으로 사용자로부터 입력받은 정수를 계속 더해나가다가, 음수가 입력되면 중단하고 그 전까지 계산한 값을 출력하는 파이썬 스크립트를 작성하세요."
   ]
  },
  {
   "cell_type": "code",
   "execution_count": 170,
   "metadata": {},
   "outputs": [
    {
     "name": "stdout",
     "output_type": "stream",
     "text": [
      "25\n"
     ]
    }
   ],
   "source": [
    "sum=0\n",
    "while True:\n",
    "    a =int(input())\n",
    "    if a< 0 :\n",
    "        break\n",
    "    else:\n",
    "        sum += a\n",
    "print(sum)"
   ]
  },
  {
   "cell_type": "markdown",
   "metadata": {},
   "source": [
    "13. 복리 예금의 원금(P), 연이율(r), 기간(n)이 주어졌을 때, 원리금 Q는 아래 공식과 같다.\n",
    "Q=P(1+r)**n\n",
    "이때 원리금을 계산하는 함수 compound_amount()를 작성하고\n",
    "원금이 1,000,000원, 연이율이 2.5%, 기간이 3년일 때 원리금을 계산하세요"
   ]
  },
  {
   "cell_type": "code",
   "execution_count": 45,
   "metadata": {},
   "outputs": [
    {
     "data": {
      "text/plain": [
       "1076890.6249999998"
      ]
     },
     "execution_count": 45,
     "metadata": {},
     "output_type": "execute_result"
    }
   ],
   "source": [
    "def compound_amount(P,r,n):\n",
    "    return P*((1+r)**n)\n",
    "compound_amount(1000000,0.025,3)\n"
   ]
  },
  {
   "cell_type": "markdown",
   "metadata": {},
   "source": [
    "14. 정수 num을 매개변수로 받아 각 자리 숫자(digit)의 합을 계산하는 sumOfDigits() 함수를 작성하고, 예를 들어 검증해보세요"
   ]
  },
  {
   "cell_type": "code",
   "execution_count": 68,
   "metadata": {},
   "outputs": [
    {
     "data": {
      "text/plain": [
       "25"
      ]
     },
     "execution_count": 68,
     "metadata": {},
     "output_type": "execute_result"
    }
   ],
   "source": [
    "def sumOfDigits(num):\n",
    "    if num >= 1:\n",
    "        return num % 10 + sumOfDigits(num // 10)\n",
    "    else:\n",
    "        return 0\n",
    "sumOfDigits(13579)"
   ]
  },
  {
   "cell_type": "markdown",
   "metadata": {},
   "source": [
    "15. 1과 자기 자신으로만 나누어 떨어지는 자연수를 소수라고 합니다. 소수를 구하는 방법은 다음과 같습니다.\n",
    "1) 찾고자 하는 범위의 자연수를 나열\n",
    "2) 2부터 시작하여 2의 배수를 지워나감\n",
    "3) 다음 소수의 배수를 모두 지움\n",
    "\n",
    "이와 같은 방식으로 100 이하 소수를 구하세요"
   ]
  },
  {
   "cell_type": "code",
   "execution_count": 108,
   "metadata": {},
   "outputs": [
    {
     "name": "stdout",
     "output_type": "stream",
     "text": [
      "2 3 5 7 11 13 17 19 23 29 31 37 41 43 47 53 59 61 67 71 73 79 83 89 97 "
     ]
    }
   ],
   "source": [
    "n=100\n",
    "def isPrime(a):\n",
    "  if(a<2):\n",
    "    return False\n",
    "  for i in range(2,a):\n",
    "    if(a%i==0):\n",
    "      return False\n",
    "  return True\n",
    "\n",
    "for i in range(n+1):\n",
    "  if(isPrime(i)):\n",
    "    print(i, end=' ')"
   ]
  },
  {
   "cell_type": "markdown",
   "metadata": {},
   "source": [
    "16. 사용자로부터 날짜를 나타내는 세 개의 숫자를 입력받습니다. 첫 번째 숫자는 연도를 나타내는 네 자리 숫자이고, 두 번째 숫자는 월을, 세 번째 숫자는 일을 나타냅니다.\n",
    "\n",
    "입력받은 날짜를 yyyy-mm-dd 형식으로 출력합니다. 연도를 네 자리 숫자로, 월을 두자리 숫자로, 일을 두자리숫자로 나타냅니다.\n",
    "\n",
    "입력받은 날짜의 다음 날에 해당하는 날짜도 같은 형식으로 출력합니다. 단, 윤년은 무시하세요.(2월은 항상 28일 까지 있다고 가정)"
   ]
  },
  {
   "cell_type": "code",
   "execution_count": 171,
   "metadata": {},
   "outputs": [
    {
     "name": "stdout",
     "output_type": "stream",
     "text": [
      "입력하신 날짜는 2021-11-31이고\n"
     ]
    },
    {
     "ename": "ValueError",
     "evalue": "day is out of range for month",
     "output_type": "error",
     "traceback": [
      "\u001b[1;31m---------------------------------------------------------------------------\u001b[0m",
      "\u001b[1;31mValueError\u001b[0m                                Traceback (most recent call last)",
      "\u001b[1;32m<ipython-input-171-b1c41c2ccb80>\u001b[0m in \u001b[0;36m<module>\u001b[1;34m\u001b[0m\n\u001b[0;32m      4\u001b[0m \u001b[1;33m\u001b[0m\u001b[0m\n\u001b[0;32m      5\u001b[0m \u001b[1;32mimport\u001b[0m \u001b[0mdatetime\u001b[0m\u001b[1;33m\u001b[0m\u001b[1;33m\u001b[0m\u001b[0m\n\u001b[1;32m----> 6\u001b[1;33m \u001b[0mdays\u001b[0m \u001b[1;33m=\u001b[0m \u001b[0mdatetime\u001b[0m\u001b[1;33m.\u001b[0m\u001b[0mdate\u001b[0m\u001b[1;33m(\u001b[0m\u001b[0myear\u001b[0m\u001b[1;33m,\u001b[0m\u001b[0mmonth\u001b[0m\u001b[1;33m,\u001b[0m\u001b[0mday\u001b[0m\u001b[1;33m)\u001b[0m\u001b[1;33m\u001b[0m\u001b[1;33m\u001b[0m\u001b[0m\n\u001b[0m\u001b[0;32m      7\u001b[0m \u001b[0mb\u001b[0m \u001b[1;33m=\u001b[0m \u001b[0mdays\u001b[0m \u001b[1;33m+\u001b[0m \u001b[0mdatetime\u001b[0m\u001b[1;33m.\u001b[0m\u001b[0mtimedelta\u001b[0m\u001b[1;33m(\u001b[0m\u001b[0mdays\u001b[0m\u001b[1;33m=\u001b[0m\u001b[1;36m1\u001b[0m\u001b[1;33m)\u001b[0m\u001b[1;33m\u001b[0m\u001b[1;33m\u001b[0m\u001b[0m\n\u001b[0;32m      8\u001b[0m \u001b[0mprint\u001b[0m\u001b[1;33m(\u001b[0m\u001b[1;34mf'다음날의 날짜는 {b}입니다'\u001b[0m\u001b[1;33m)\u001b[0m\u001b[1;33m\u001b[0m\u001b[1;33m\u001b[0m\u001b[0m\n",
      "\u001b[1;31mValueError\u001b[0m: day is out of range for month"
     ]
    }
   ],
   "source": [
    "year, month, day = map(int, input().split())\n",
    "\n",
    "print(f'입력하신 날짜는 {year:4d}-{month:02d}-{day:02d}이고')\n",
    "\n",
    "import datetime\n",
    "days = datetime.date(year,month,day)\n",
    "b = days + datetime.timedelta(days=1)\n",
    "print(f'다음날의 날짜는 {b}입니다')"
   ]
  },
  {
   "cell_type": "markdown",
   "metadata": {},
   "source": [
    "17. 직각삼각형의 두 직각변 a,b를 각각 한 변으로 하는 정사각형 면적의 합은 빗변 c를 한 변으로 하는 정사각형의 면적과 같습니다.\n",
    "이를 피타고라스 정리라고 합니다.\n",
    "a**2+b**2=c**2\n",
    "두 직각변(a,b)의 길이를 입력으로 받아 빗변(c)의 길이를 구하는 함수 hypotenuse()를 작성하세요. 출력은 소수점 셋째 자리까지 표시하세요"
   ]
  },
  {
   "cell_type": "code",
   "execution_count": 131,
   "metadata": {},
   "outputs": [
    {
     "name": "stdout",
     "output_type": "stream",
     "text": [
      "c = 7.211\n"
     ]
    }
   ],
   "source": [
    "import math\n",
    "def hypotenuse(a, b):\n",
    "    return print(f'c = {round((math.sqrt(a**2+b**2)),3)}')\n",
    "hypotenuse(4,6)"
   ]
  },
  {
   "cell_type": "markdown",
   "metadata": {},
   "source": [
    "18. 주사위를 두번 굴려서 합을 출력한다. 단, 10이상이면 게임을 멈추고, 10미만이면 주사위 게임을 계속하는 프로그램을 random모듈과 while을 사용하여 작성하세요."
   ]
  },
  {
   "cell_type": "code",
   "execution_count": 178,
   "metadata": {},
   "outputs": [
    {
     "name": "stdout",
     "output_type": "stream",
     "text": [
      "7\n",
      "12\n"
     ]
    }
   ],
   "source": [
    "import random\n",
    "while True:\n",
    "    num_1 = random.randint(1,6)\n",
    "    num_2 = random.randint(1,6)\n",
    "    sum = num_1+num_2   \n",
    "    if sum >= 10 :\n",
    "        print(sum)\n",
    "        break\n",
    "    else:    \n",
    "        print(sum)"
   ]
  },
  {
   "cell_type": "markdown",
   "metadata": {},
   "source": [
    "상근이는 매일 아침 알람을 듣고 일어난다. 알람을 듣고 바로 일어나면 다행이겠지만, 항상 조금만 더 자려는 마음 때문에 매일 학교를 지각하고 있다. 상근이는 모든 방법을 동원해보았지만, 조금만 더 자려는 마음은 그 어떤 것도 없앨 수가 없었다.\n",
    "이런 상근이를 불쌍하게 보던, 창영이는 자신이 사용하는 방법을 추천해 주었다.\n",
    "바로 \"45분 일찍 알람 맞추기\"이다.\n",
    "이 방법은 단순하다. 원래 맞춰져 있는 알람을 45분 앞서는 시간으로 바꾸는 것이다. 어차피 알람 소리를 들으면, 알름을 끄고 조금 더 잘 것이기 때문이다. 이 방법을 사용하면, 매일 아침 더 잤다는 기분을 느낄 수 있고, 학교도 지각하지 않게 된다.\n",
    "현재 상근이가 맞춰 놓은 알람 시각을 입력으로 받아(시와 분) 창영이의 방법을 사용한다면, 이를 언제로 고쳐야 하는지 구하는 프로그램을 작성하세요."
   ]
  },
  {
   "cell_type": "code",
   "execution_count": 158,
   "metadata": {},
   "outputs": [
    {
     "name": "stdout",
     "output_type": "stream",
     "text": [
      "11 : 45로 시간을 맞추세요\n"
     ]
    }
   ],
   "source": [
    "hour,minute = map(int, input().split(':'))\n",
    "if minute > 44:\n",
    "    print(f'{hour} : {minute-45}로 시간을 맞추세요')\n",
    "elif minute <= 44 and hour >= 1:\n",
    "    print(f'{hour-1} : {minute+15}로 시간을 맞추세요')\n",
    "else:\n",
    "    print(f'23 : {minute+15}로 시간을 맞추세요')"
   ]
  },
  {
   "cell_type": "markdown",
   "metadata": {},
   "source": [
    "20. https://www.lipsum.com/ 사이트에 접속해서 본문의 내용을 lipsum.txt 파일에 저장하고, 이 파일을 읽어 단어의 개수를 세는 프로그램을 작성하세요.\n",
    "단, 읽은 단어는 소문자로 변환하고, 구둣점을 없앤 후 개수를 세고, 출력은 총 단어수와 가장 많이 나온 순서대로 단어 10개와 그 단어의 빈도입니다."
   ]
  },
  {
   "cell_type": "code",
   "execution_count": 165,
   "metadata": {},
   "outputs": [
    {
     "data": {
      "text/plain": []
     },
     "execution_count": 165,
     "metadata": {},
     "output_type": "execute_result"
    }
   ],
   "source": [
    "from urllib.request import urlopen\n",
    "from bs4 import BeautifulSoup\n",
    "\n",
    "html=urlopen(\"https://www.lipsum.com/\")\n",
    "bsObject = BeautifulSoup(html, \"html.parser\")\n",
    "\n",
    "bsObject"
   ]
  },
  {
   "cell_type": "code",
   "execution_count": 168,
   "metadata": {},
   "outputs": [
    {
     "ename": "ImportError",
     "evalue": "cannot import name 'urlopen' from 'urllib' (C:\\Users\\ICT01_02\\anaconda3\\lib\\urllib\\__init__.py)",
     "output_type": "error",
     "traceback": [
      "\u001b[1;31m---------------------------------------------------------------------------\u001b[0m",
      "\u001b[1;31mImportError\u001b[0m                               Traceback (most recent call last)",
      "\u001b[1;32m<ipython-input-168-215b9c4aba46>\u001b[0m in \u001b[0;36m<module>\u001b[1;34m\u001b[0m\n\u001b[1;32m----> 1\u001b[1;33m \u001b[1;32mfrom\u001b[0m \u001b[0murllib\u001b[0m \u001b[1;32mimport\u001b[0m \u001b[0murlopen\u001b[0m\u001b[1;33m\u001b[0m\u001b[1;33m\u001b[0m\u001b[0m\n\u001b[0m\u001b[0;32m      2\u001b[0m \u001b[0mdoc\u001b[0m \u001b[1;33m=\u001b[0m \u001b[0murlopen\u001b[0m\u001b[1;33m(\u001b[0m\u001b[1;34m\"https://www.lipsum.com/\"\u001b[0m\u001b[1;33m)\u001b[0m\u001b[1;33m.\u001b[0m\u001b[0mread\u001b[0m\u001b[1;33m(\u001b[0m\u001b[1;33m)\u001b[0m\u001b[1;33m\u001b[0m\u001b[1;33m\u001b[0m\u001b[0m\n\u001b[0;32m      3\u001b[0m \u001b[0mprint\u001b[0m\u001b[1;33m(\u001b[0m\u001b[0mdoc\u001b[0m\u001b[1;33m)\u001b[0m\u001b[1;33m\u001b[0m\u001b[1;33m\u001b[0m\u001b[0m\n\u001b[0;32m      4\u001b[0m \u001b[1;33m\u001b[0m\u001b[0m\n\u001b[0;32m      5\u001b[0m \u001b[1;32mimport\u001b[0m \u001b[0murllib\u001b[0m\u001b[1;33m\u001b[0m\u001b[1;33m\u001b[0m\u001b[0m\n",
      "\u001b[1;31mImportError\u001b[0m: cannot import name 'urlopen' from 'urllib' (C:\\Users\\ICT01_02\\anaconda3\\lib\\urllib\\__init__.py)"
     ]
    }
   ],
   "source": [
    "from urllib import urlopen\n",
    "doc = urlopen(\"https://www.lipsum.com/\").read()\n",
    "print(doc)\n",
    "\n",
    "import urllib\n",
    "uf = urllib.urlopen(\"https://www.lipsum.com/\")\n",
    "doc = uf.read()\n",
    "print(doc)\n",
    "\n",
    "import urllib.request\n",
    "uh = urllib.request.urlopen(\"https://www.lipsum.com/\")\n",
    "h_source = uh.read()\n",
    "print(html)\n",
    "\n",
    "f = open(\"C:\\\\lipsum.txt\", 'w')\n",
    "print(f)\n",
    "f.write(doc)\n",
    "f.close\n",
    "\n",
    "f = open(\"C:\\\\lipsum.txt\",'r')\n",
    "for line in f:\n",
    "    print(line)"
   ]
  },
  {
   "cell_type": "code",
   "execution_count": null,
   "metadata": {},
   "outputs": [],
   "source": []
  }
 ],
 "metadata": {
  "interpreter": {
   "hash": "e3bde7f9be308a4ed5b677c98eb4e5423d8d4c39cb1152441ce9aa81adc70699"
  },
  "kernelspec": {
   "display_name": "Python 3.8.8 64-bit ('base': conda)",
   "language": "python",
   "name": "python3"
  },
  "language_info": {
   "codemirror_mode": {
    "name": "ipython",
    "version": 3
   },
   "file_extension": ".py",
   "mimetype": "text/x-python",
   "name": "python",
   "nbconvert_exporter": "python",
   "pygments_lexer": "ipython3",
   "version": "3.8.8"
  },
  "orig_nbformat": 4
 },
 "nbformat": 4,
 "nbformat_minor": 2
}
