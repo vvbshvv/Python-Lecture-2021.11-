{
 "cells": [
  {
   "cell_type": "markdown",
   "metadata": {},
   "source": [
    "# 14. else 구문"
   ]
  },
  {
   "cell_type": "code",
   "execution_count": 7,
   "metadata": {},
   "outputs": [
    {
     "name": "stdout",
     "output_type": "stream",
     "text": [
      "10미만\n"
     ]
    }
   ],
   "source": [
    "x = 5\n",
    "if x >= 10:\n",
    "    print('10이상')\n",
    "else:\n",
    "    print('10미만')"
   ]
  },
  {
   "cell_type": "code",
   "execution_count": 8,
   "metadata": {},
   "outputs": [
    {
     "name": "stdout",
     "output_type": "stream",
     "text": [
      "65는 홀수\n"
     ]
    }
   ],
   "source": [
    "import random  #.seed(2021) 숫자 지정 같은 랜덤 값 출력\n",
    "x = random.randint(1,100)   #1~100사이 랜덤 수\n",
    "if x % 2 == 0:\n",
    "    print(f'{x}는 짝수')\n",
    "else:\n",
    "    print(f'{x}는 홀수')"
   ]
  },
  {
   "cell_type": "code",
   "execution_count": 9,
   "metadata": {},
   "outputs": [
    {
     "name": "stdout",
     "output_type": "stream",
     "text": [
      "58는 짝수\n"
     ]
    }
   ],
   "source": [
    "x = random.randint(1,100)  \n",
    "if x % 2 == 0:\n",
    "    result = '짝수'\n",
    "else:\n",
    "    result = '홀수'    #들여쓰기 에러 indentation error조심\n",
    "print(f'{x}는 {result}')"
   ]
  },
  {
   "cell_type": "code",
   "execution_count": 10,
   "metadata": {},
   "outputs": [
    {
     "name": "stdout",
     "output_type": "stream",
     "text": [
      "49는 홀수\n"
     ]
    }
   ],
   "source": [
    "x = random.randint(1,100)  #3항 연산자 많이씀!!!!!!!!!!\n",
    "result = '짝수' if x % 2 == 0 else '홀수'\n",
    "print(f'{x}는 {result}')"
   ]
  },
  {
   "cell_type": "markdown",
   "metadata": {},
   "source": [
    "- 여러개의 조건식"
   ]
  },
  {
   "cell_type": "code",
   "execution_count": 11,
   "metadata": {},
   "outputs": [
    {
     "name": "stdout",
     "output_type": "stream",
     "text": [
      "20보다 작은 양수입니다.\n"
     ]
    }
   ],
   "source": [
    "x = 10\n",
    "if x >0:\n",
    "    if x < 20:\n",
    "        print('20보다 작은 양수입니다.')"
   ]
  },
  {
   "cell_type": "code",
   "execution_count": 12,
   "metadata": {},
   "outputs": [
    {
     "name": "stdout",
     "output_type": "stream",
     "text": [
      "20보다 작은 양수입니다.\n"
     ]
    }
   ],
   "source": [
    "if x >0 and x<20:\n",
    "    print('20보다 작은 양수입니다.')"
   ]
  },
  {
   "cell_type": "code",
   "execution_count": 13,
   "metadata": {},
   "outputs": [
    {
     "name": "stdout",
     "output_type": "stream",
     "text": [
      "20보다 작은 양수입니다.\n"
     ]
    }
   ],
   "source": [
    "if 0< x <20:  #Pytyon에서만 쓸 수있는 부등호 식\n",
    "    print('20보다 작은 양수입니다.')"
   ]
  },
  {
   "cell_type": "code",
   "execution_count": null,
   "metadata": {},
   "outputs": [],
   "source": []
  }
 ],
 "metadata": {
  "interpreter": {
   "hash": "e3bde7f9be308a4ed5b677c98eb4e5423d8d4c39cb1152441ce9aa81adc70699"
  },
  "kernelspec": {
   "display_name": "Python 3.8.8 64-bit ('base': conda)",
   "language": "python",
   "name": "python3"
  },
  "language_info": {
   "codemirror_mode": {
    "name": "ipython",
    "version": 3
   },
   "file_extension": ".py",
   "mimetype": "text/x-python",
   "name": "python",
   "nbconvert_exporter": "python",
   "pygments_lexer": "ipython3",
   "version": "3.8.8"
  },
  "orig_nbformat": 4
 },
 "nbformat": 4,
 "nbformat_minor": 2
}
