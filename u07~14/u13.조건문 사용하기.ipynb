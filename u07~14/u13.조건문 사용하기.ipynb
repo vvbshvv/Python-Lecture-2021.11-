{
 "cells": [
  {
   "cell_type": "markdown",
   "metadata": {},
   "source": [
    "# 13. if 조건문 활용하기"
   ]
  },
  {
   "cell_type": "code",
   "execution_count": 1,
   "metadata": {},
   "outputs": [
    {
     "name": "stdout",
     "output_type": "stream",
     "text": [
      "10 입니다.\n"
     ]
    }
   ],
   "source": [
    "x = 10\n",
    "if x == 10:\n",
    "    print('10 입니다.')"
   ]
  },
  {
   "cell_type": "code",
   "execution_count": 2,
   "metadata": {},
   "outputs": [
    {
     "name": "stdout",
     "output_type": "stream",
     "text": [
      "10입니다.\n",
      "이것은 조건이 참일 경우 실행\n",
      "이것은 조건과 무관하게 실행\n"
     ]
    }
   ],
   "source": [
    "if x == 10 :\n",
    "    print('10입니다.')\n",
    "    print('이것은 조건이 참일 경우 실행') \n",
    "print('이것은 조건과 무관하게 실행') #들여쓰기를 맞추어서 코딩"
   ]
  },
  {
   "cell_type": "markdown",
   "metadata": {},
   "source": [
    "- 중첩 조건문"
   ]
  },
  {
   "cell_type": "code",
   "execution_count": 9,
   "metadata": {},
   "outputs": [
    {
     "name": "stdout",
     "output_type": "stream",
     "text": [
      "10 초과\n"
     ]
    }
   ],
   "source": [
    "x = 25\n",
    "if x > 10:\n",
    "    print('10 초과')\n",
    "    if x % 3 == 0: # %는 나누기\n",
    "        print('3의 배수')\n",
    "        if x % 5 == 0:\n",
    "            print('5의 배수')"
   ]
  },
  {
   "cell_type": "code",
   "execution_count": 11,
   "metadata": {},
   "outputs": [
    {
     "name": "stdout",
     "output_type": "stream",
     "text": [
      "10 초과\n",
      "3의 배수\n",
      "5의 배수\n"
     ]
    }
   ],
   "source": [
    "x = int(input('정수 입력하시오'))  #그냥 input()만 넣으면 하나의 숫자만, .split()넣으면 여러가지 수\n",
    "if x > 10:\n",
    "    print('10 초과')\n",
    "    if x % 3 == 0: # %는 나누기\n",
    "        print('3의 배수')\n",
    "        if x % 5 == 0:\n",
    "            print('5의 배수')"
   ]
  },
  {
   "cell_type": "code",
   "execution_count": 12,
   "metadata": {},
   "outputs": [
    {
     "name": "stdout",
     "output_type": "stream",
     "text": [
      "10초과\n",
      "x값은 17 입니다.\n"
     ]
    }
   ],
   "source": [
    "import random\n",
    "random.seed(2021)\n",
    "x = random.randint(5, 20)\n",
    "if x > 10:\n",
    "    print('10초과')\n",
    "    if x % 3 ==0:\n",
    "        print('3의 배수')\n",
    "    if x % 5 == 0:\n",
    "        print('5의 배수')\n",
    "print(f'x값은 {x} 입니다.')"
   ]
  },
  {
   "cell_type": "code",
   "execution_count": 14,
   "metadata": {},
   "outputs": [],
   "source": [
    "if x > 15:\n",
    "    pass  # pass를 사용하여 미완성된 코딩을 넘길수 있다\n"
   ]
  },
  {
   "cell_type": "code",
   "execution_count": null,
   "metadata": {},
   "outputs": [],
   "source": []
  }
 ],
 "metadata": {
  "interpreter": {
   "hash": "e3bde7f9be308a4ed5b677c98eb4e5423d8d4c39cb1152441ce9aa81adc70699"
  },
  "kernelspec": {
   "display_name": "Python 3.8.8 64-bit ('base': conda)",
   "language": "python",
   "name": "python3"
  },
  "language_info": {
   "codemirror_mode": {
    "name": "ipython",
    "version": 3
   },
   "file_extension": ".py",
   "mimetype": "text/x-python",
   "name": "python",
   "nbconvert_exporter": "python",
   "pygments_lexer": "ipython3",
   "version": "3.8.8"
  },
  "orig_nbformat": 4
 },
 "nbformat": 4,
 "nbformat_minor": 2
}
