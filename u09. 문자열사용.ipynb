{
 "cells": [
  {
   "cell_type": "markdown",
   "metadata": {},
   "source": [
    "# 09.문자열 사용하기"
   ]
  },
  {
   "cell_type": "code",
   "execution_count": 1,
   "metadata": {},
   "outputs": [],
   "source": [
    "s1 = \"I'm not you.\"\n",
    "s2 = 'I\\'m not you.' # '(어퍼스트로피를 넣고 싶을때 \\사용)\n",
    "s3 = '''I'm not you.''' # 혹은 '''사용(여러 열에도 사용)"
   ]
  },
  {
   "cell_type": "code",
   "execution_count": 3,
   "metadata": {},
   "outputs": [],
   "source": [
    "s4 = '''             \n",
    "헬로우\n",
    "니가 영희라고?\n",
    "'''  # '''는 여러열에 걸쳐서 사용 가능"
   ]
  },
  {
   "cell_type": "code",
   "execution_count": 5,
   "metadata": {},
   "outputs": [
    {
     "name": "stdout",
     "output_type": "stream",
     "text": [
      "철수 영희\n"
     ]
    }
   ],
   "source": [
    "'철수' + '영희'\n",
    "print('철수', '영희')"
   ]
  },
  {
   "cell_type": "code",
   "execution_count": 10,
   "metadata": {},
   "outputs": [
    {
     "name": "stdout",
     "output_type": "stream",
     "text": [
      "오예스나 초코파이나 거기서 거기다.\n"
     ]
    }
   ],
   "source": [
    "name1, name2 = '오예스', '초코파이'\n",
    "res = name1 + '나 ' + name2 + '나 거기서 거기다.'\n",
    "print(res)"
   ]
  },
  {
   "cell_type": "code",
   "execution_count": 13,
   "metadata": {},
   "outputs": [
    {
     "name": "stdout",
     "output_type": "stream",
     "text": [
      "오예스나 초코파이나 거기서 거기다.\n"
     ]
    }
   ],
   "source": [
    "# Python 3.6부터 f-string 사용 가능\n",
    "res2 = f'{name1}나 {name2}나 거기서 거기다.'\n",
    "print(res2)"
   ]
  },
  {
   "cell_type": "code",
   "execution_count": null,
   "metadata": {},
   "outputs": [],
   "source": []
  }
 ],
 "metadata": {
  "interpreter": {
   "hash": "e3bde7f9be308a4ed5b677c98eb4e5423d8d4c39cb1152441ce9aa81adc70699"
  },
  "kernelspec": {
   "display_name": "Python 3.8.8 64-bit ('base': conda)",
   "language": "python",
   "name": "python3"
  },
  "language_info": {
   "codemirror_mode": {
    "name": "ipython",
    "version": 3
   },
   "file_extension": ".py",
   "mimetype": "text/x-python",
   "name": "python",
   "nbconvert_exporter": "python",
   "pygments_lexer": "ipython3",
   "version": "3.8.8"
  },
  "orig_nbformat": 4
 },
 "nbformat": 4,
 "nbformat_minor": 2
}
