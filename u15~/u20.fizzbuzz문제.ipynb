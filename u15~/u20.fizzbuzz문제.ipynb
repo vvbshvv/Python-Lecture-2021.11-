{
 "cells": [
  {
   "cell_type": "code",
   "execution_count": 1,
   "metadata": {},
   "outputs": [
    {
     "ename": "SyntaxError",
     "evalue": "invalid syntax (<ipython-input-1-87d2198cd5bb>, line 1)",
     "output_type": "error",
     "traceback": [
      "\u001b[1;36m  File \u001b[1;32m\"<ipython-input-1-87d2198cd5bb>\"\u001b[1;36m, line \u001b[1;32m1\u001b[0m\n\u001b[1;33m    for i in range(1,51)\u001b[0m\n\u001b[1;37m                        ^\u001b[0m\n\u001b[1;31mSyntaxError\u001b[0m\u001b[1;31m:\u001b[0m invalid syntax\n"
     ]
    }
   ],
   "source": [
    "for i in range(1,51) #3항연산자\n",
    "a = 'FizzBuzz' if i % 3 ==0 and i%5==0 else \\\n",
    "            'Buzz' if i % 3 == 0 else \\\n",
    "                'Fizz' if i % 5==0 else print(a)"
   ]
  },
  {
   "cell_type": "code",
   "execution_count": 19,
   "metadata": {},
   "outputs": [
    {
     "name": "stdout",
     "output_type": "stream",
     "text": [
      "1\n",
      "2의 배수\n",
      "3\n",
      "2의 배수\n",
      "5\n",
      "2의 배수\n",
      "7의 배수\n",
      "2의 배수\n",
      "9\n",
      "2의 배수\n",
      "11\n",
      "2의 배수\n",
      "13\n",
      "2의 배수\n",
      "15\n",
      "2의 배수\n",
      "17\n",
      "2의 배수\n",
      "19\n",
      "2의 배수\n",
      "7의 배수\n",
      "2의 배수\n",
      "23\n",
      "2의 배수\n",
      "25\n",
      "2의 배수\n",
      "27\n",
      "2의 배수\n",
      "29\n",
      "2의 배수\n",
      "31\n",
      "2의 배수\n",
      "33\n",
      "2의 배수\n",
      "7의 배수\n",
      "2의 배수\n",
      "37\n",
      "2의 배수\n",
      "39\n",
      "2의 배수\n",
      "41\n",
      "2의 배수\n",
      "43\n",
      "2의 배수\n",
      "45\n",
      "2의 배수\n",
      "47\n",
      "2의 배수\n",
      "7의 배수\n",
      "2의 배수\n"
     ]
    }
   ],
   "source": [
    "for i in range(1,51):\n",
    "    if i % 2 == 0:\n",
    "        print('2의 배수')\n",
    "    elif i % 7 == 0:\n",
    "        print('7의 배수')\n",
    "    else:\n",
    "        print(i)"
   ]
  },
  {
   "cell_type": "code",
   "execution_count": 32,
   "metadata": {},
   "outputs": [
    {
     "name": "stdout",
     "output_type": "stream",
     "text": [
      "1 2 Fizz 4 Buzz Fizz 7 8 Fizz Buzz 11 Fizz 13 14 FizzBuzz 16 17 Fizz 19 Buzz Fizz 22 23 Fizz Buzz 26 Fizz 28 29 FizzBuzz 31 32 Fizz 34 Buzz Fizz 37 38 Fizz Buzz 41 Fizz 43 44 FizzBuzz 46 47 Fizz 49 Buzz Fizz 52 53 Fizz Buzz 56 Fizz 58 59 FizzBuzz 61 62 Fizz 64 Buzz Fizz 67 68 Fizz Buzz 71 Fizz 73 74 FizzBuzz 76 77 Fizz 79 Buzz Fizz 82 83 Fizz Buzz 86 Fizz 88 89 FizzBuzz 91 92 Fizz 94 Buzz Fizz 97 98 Fizz Buzz "
     ]
    }
   ],
   "source": [
    "for i in range(1, 101):\n",
    "    if i%3 ==0 and i%5==0:\n",
    "        print('FizzBuzz', end=' ')\n",
    "    elif i % 3 == 0 :\n",
    "        print('Fizz', end=' ')\n",
    "    elif i % 5 == 0 :\n",
    "        print('Buzz', end=' ')\n",
    "    else:\n",
    "        print(i, end=' ')"
   ]
  },
  {
   "cell_type": "code",
   "execution_count": 38,
   "metadata": {},
   "outputs": [
    {
     "name": "stdout",
     "output_type": "stream",
     "text": [
      "1 2 Fizz 4 Buzz Fizz 7 8 Fizz Buzz 11 Fizz 13 14 FizzBuzz 16 17 Fizz 19 Buzz Fizz 22 23 Fizz Buzz 26 Fizz 28 29 FizzBuzz 31 32 Fizz 34 Buzz Fizz 37 38 Fizz Buzz 41 Fizz 43 44 FizzBuzz 46 47 Fizz 49 Buzz Fizz 52 53 Fizz Buzz 56 Fizz 58 59 FizzBuzz 61 62 Fizz 64 Buzz Fizz 67 68 Fizz Buzz 71 Fizz 73 74 FizzBuzz 76 77 Fizz 79 Buzz Fizz 82 83 Fizz Buzz 86 Fizz 88 89 FizzBuzz 91 92 Fizz 94 Buzz Fizz 97 98 Fizz Buzz "
     ]
    }
   ],
   "source": [
    "for i in range(1,101):\n",
    "    print('Fizz'*(i%3==0) + 'Buzz'*(i%5==0) or i, end=' ')"
   ]
  },
  {
   "cell_type": "markdown",
   "metadata": {},
   "source": [
    "- 세 자리수를 두개 곱해서 만든 수가 대칭수일 때\n",
    "- 가장 큰 대칭수와 그때의 두수를 구하시오"
   ]
  },
  {
   "cell_type": "code",
   "execution_count": 39,
   "metadata": {},
   "outputs": [
    {
     "data": {
      "text/plain": [
       "2.0"
      ]
     },
     "execution_count": 39,
     "metadata": {},
     "output_type": "execute_result"
    }
   ],
   "source": [
    "import  math\n",
    "wow= math.sqrt(4)\n",
    "wow"
   ]
  },
  {
   "cell_type": "code",
   "execution_count": 40,
   "metadata": {},
   "outputs": [],
   "source": [
    "def is_palindrome(n):\n",
    "    s = str(n)\n",
    "    return s == s[::-1]"
   ]
  },
  {
   "cell_type": "code",
   "execution_count": 41,
   "metadata": {},
   "outputs": [
    {
     "data": {
      "text/plain": [
       "True"
      ]
     },
     "execution_count": 41,
     "metadata": {},
     "output_type": "execute_result"
    }
   ],
   "source": [
    "is_palindrome(12321)"
   ]
  },
  {
   "cell_type": "code",
   "execution_count": 47,
   "metadata": {},
   "outputs": [
    {
     "name": "stdout",
     "output_type": "stream",
     "text": [
      "906609 913 993\n"
     ]
    }
   ],
   "source": [
    "max_num=0  # 숙지!!!!!!!!!!!!!!!!!!!!!!!!!!!!!!!\n",
    "for i in range(100,1000):\n",
    "    for k in range(i,1000):\n",
    "        mul = i*k\n",
    "        if is_palindrome(mul):\n",
    "            if mul>max_num:\n",
    "                max_num = mul\n",
    "                num1, num2 = i, k\n",
    "print(max_num, num1, num2)\n"
   ]
  },
  {
   "cell_type": "code",
   "execution_count": 51,
   "metadata": {},
   "outputs": [
    {
     "name": "stdout",
     "output_type": "stream",
     "text": [
      "1\n",
      "21\n",
      "41\n",
      "61\n",
      "81\n",
      "101\n",
      "121\n",
      "141\n",
      "161\n",
      "181\n",
      "201\n",
      "17의 배수\n",
      "241\n",
      "261\n",
      "281\n",
      "301\n",
      "321\n",
      "341\n",
      "361\n",
      "381\n",
      "401\n",
      "421\n",
      "441\n",
      "461\n",
      "481\n",
      "501\n",
      "521\n",
      "541\n",
      "17의 배수\n",
      "581\n",
      "601\n",
      "621\n",
      "641\n",
      "661\n",
      "681\n",
      "701\n",
      "721\n",
      "741\n",
      "761\n",
      "781\n",
      "801\n",
      "821\n",
      "841\n",
      "861\n",
      "881\n",
      "17의 배수\n",
      "921\n",
      "941\n",
      "961\n",
      "981\n"
     ]
    }
   ],
   "source": [
    "for i in range(1,1000,20):\n",
    "    if i % 17 == 0:\n",
    "        print('17의 배수')\n",
    "    else:\n",
    "        print(i)"
   ]
  },
  {
   "cell_type": "code",
   "execution_count": 63,
   "metadata": {},
   "outputs": [
    {
     "name": "stdout",
     "output_type": "stream",
     "text": [
      "222222 462 481\n"
     ]
    }
   ],
   "source": [
    "max_num=0\n",
    "for i in range(100,501):\n",
    "    for k in range(i,501):\n",
    "        mul=i*k\n",
    "        if is_palindrome(mul):\n",
    "            if mul>max_num:\n",
    "                max_num=mul\n",
    "                num1=i\n",
    "                num2=k\n",
    "print(max_num, num1, num2)"
   ]
  },
  {
   "cell_type": "code",
   "execution_count": null,
   "metadata": {},
   "outputs": [],
   "source": []
  }
 ],
 "metadata": {
  "interpreter": {
   "hash": "e3bde7f9be308a4ed5b677c98eb4e5423d8d4c39cb1152441ce9aa81adc70699"
  },
  "kernelspec": {
   "display_name": "Python 3.8.8 64-bit ('base': conda)",
   "language": "python",
   "name": "python3"
  },
  "language_info": {
   "codemirror_mode": {
    "name": "ipython",
    "version": 3
   },
   "file_extension": ".py",
   "mimetype": "text/x-python",
   "name": "python",
   "nbconvert_exporter": "python",
   "pygments_lexer": "ipython3",
   "version": "3.8.8"
  },
  "orig_nbformat": 4
 },
 "nbformat": 4,
 "nbformat_minor": 2
}
