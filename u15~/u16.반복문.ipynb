{
 "cells": [
  {
   "cell_type": "markdown",
   "metadata": {},
   "source": [
    "# 16 반복문(중요!)"
   ]
  },
  {
   "cell_type": "code",
   "execution_count": 3,
   "metadata": {},
   "outputs": [
    {
     "name": "stdout",
     "output_type": "stream",
     "text": [
      "오 마이갓, oh my god! 0\n",
      "오 마이갓, oh my god! 1\n",
      "오 마이갓, oh my god! 2\n",
      "오 마이갓, oh my god! 3\n",
      "오 마이갓, oh my god! 4\n"
     ]
    }
   ],
   "source": [
    "for i in range(5): #for 구문에서 반복은 i로 쓰는 것이 관례\n",
    "    print('오 마이갓, oh my god!', i)"
   ]
  },
  {
   "cell_type": "code",
   "execution_count": 4,
   "metadata": {},
   "outputs": [
    {
     "name": "stdout",
     "output_type": "stream",
     "text": [
      "오 마이갓, oh my god! 2\n",
      "오 마이갓, oh my god! 3\n",
      "오 마이갓, oh my god! 4\n",
      "오 마이갓, oh my god! 5\n",
      "오 마이갓, oh my god! 6\n",
      "오 마이갓, oh my god! 7\n",
      "오 마이갓, oh my god! 8\n",
      "오 마이갓, oh my god! 9\n",
      "오 마이갓, oh my god! 10\n"
     ]
    }
   ],
   "source": [
    "for i in range(2, 11): \n",
    "    print('오 마이갓, oh my god!', i)"
   ]
  },
  {
   "cell_type": "code",
   "execution_count": 5,
   "metadata": {},
   "outputs": [
    {
     "name": "stdout",
     "output_type": "stream",
     "text": [
      "오 마이갓, oh my god! 2\n",
      "오 마이갓, oh my god! 5\n",
      "오 마이갓, oh my god! 8\n"
     ]
    }
   ],
   "source": [
    "for i in range(2, 11, 3): \n",
    "    print('오 마이갓, oh my god!', i)"
   ]
  },
  {
   "cell_type": "code",
   "execution_count": 9,
   "metadata": {},
   "outputs": [
    {
     "name": "stdout",
     "output_type": "stream",
     "text": [
      "0\n",
      "2\n",
      "4\n",
      "6\n",
      "8\n"
     ]
    }
   ],
   "source": [
    "for i in range(5):\n",
    "    i *= 2\n",
    "    print(i)"
   ]
  },
  {
   "cell_type": "code",
   "execution_count": 12,
   "metadata": {},
   "outputs": [
    {
     "name": "stdout",
     "output_type": "stream",
     "text": [
      "0\n",
      "2\n",
      "4\n",
      "6\n",
      "8\n"
     ]
    }
   ],
   "source": [
    "for i in range(5):   # for loop의 인덱스(i)값은 변경시키지 말 것\n",
    "    k= i * 2\n",
    "    print(k)"
   ]
  },
  {
   "cell_type": "markdown",
   "metadata": {},
   "source": [
    "### 시퀀스 객체"
   ]
  },
  {
   "cell_type": "code",
   "execution_count": 13,
   "metadata": {},
   "outputs": [
    {
     "name": "stdout",
     "output_type": "stream",
     "text": [
      "10\n",
      "20\n",
      "30\n",
      "40\n",
      "50\n"
     ]
    }
   ],
   "source": [
    "a = [10, 20, 30, 40 ,50]\n",
    "for i in a:\n",
    "    print(i)"
   ]
  },
  {
   "cell_type": "code",
   "execution_count": 14,
   "metadata": {},
   "outputs": [
    {
     "name": "stdout",
     "output_type": "stream",
     "text": [
      "지하철\n",
      "버스\n",
      "자전거\n"
     ]
    }
   ],
   "source": [
    "bmws = ('지하철', '버스', '자전거')\n",
    "for bmw in bmws:\n",
    "    print(bmw)"
   ]
  },
  {
   "cell_type": "code",
   "execution_count": 15,
   "metadata": {},
   "outputs": [
    {
     "name": "stdout",
     "output_type": "stream",
     "text": [
      "P y t h o n "
     ]
    }
   ],
   "source": [
    "for letter in 'Python' :\n",
    "    print(letter, end=' ')"
   ]
  },
  {
   "cell_type": "code",
   "execution_count": null,
   "metadata": {},
   "outputs": [],
   "source": []
  }
 ],
 "metadata": {
  "interpreter": {
   "hash": "e3bde7f9be308a4ed5b677c98eb4e5423d8d4c39cb1152441ce9aa81adc70699"
  },
  "kernelspec": {
   "display_name": "Python 3.8.8 64-bit ('base': conda)",
   "language": "python",
   "name": "python3"
  },
  "language_info": {
   "codemirror_mode": {
    "name": "ipython",
    "version": 3
   },
   "file_extension": ".py",
   "mimetype": "text/x-python",
   "name": "python",
   "nbconvert_exporter": "python",
   "pygments_lexer": "ipython3",
   "version": "3.8.8"
  },
  "orig_nbformat": 4
 },
 "nbformat": 4,
 "nbformat_minor": 2
}
