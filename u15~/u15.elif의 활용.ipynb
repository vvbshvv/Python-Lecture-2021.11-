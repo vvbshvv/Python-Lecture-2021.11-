{
 "cells": [
  {
   "cell_type": "markdown",
   "metadata": {},
   "source": [
    "# 15. elif의 활용"
   ]
  },
  {
   "cell_type": "code",
   "execution_count": 5,
   "metadata": {},
   "outputs": [],
   "source": [
    "# 90점 이상 A, 80점 이상 B, 70점 이상 C, 60점 이상 D, 60점 미만 F"
   ]
  },
  {
   "cell_type": "code",
   "execution_count": 13,
   "metadata": {},
   "outputs": [
    {
     "name": "stdout",
     "output_type": "stream",
     "text": [
      "79 C\n"
     ]
    }
   ],
   "source": [
    "import random #기본 여러 조건문 사용 방법\n",
    "score=random.randint(50,100)\n",
    "if score >= 90:\n",
    "    grade='A'\n",
    "elif score >=80:\n",
    "    grade='B'\n",
    "elif score >=70:\n",
    "    grade='C'\n",
    "elif score >=60:\n",
    "    grade='D'\n",
    "else:\n",
    "    grade='F'\n",
    "print(score, grade)"
   ]
  },
  {
   "cell_type": "code",
   "execution_count": 14,
   "metadata": {},
   "outputs": [
    {
     "name": "stdout",
     "output_type": "stream",
     "text": [
      "89 B\n"
     ]
    }
   ],
   "source": [
    "score=random.randint(50,100) # 3항연산자 사용 방법(필수 숙지)\n",
    "grade = 'A' if score >= 90 else \\\n",
    "            'B' if score >= 80 else \\\n",
    "                'C' if score >= 70 else \\\n",
    "                    'D' if score >= 60 else 'F'\n",
    "print(score, grade)"
   ]
  },
  {
   "cell_type": "code",
   "execution_count": 11,
   "metadata": {},
   "outputs": [
    {
     "name": "stdout",
     "output_type": "stream",
     "text": [
      "81 Excellent\n"
     ]
    }
   ],
   "source": [
    "score = random.randint(50, 100)  #3항 연산자로도 가능\n",
    "grade = 'Excellent' if score >= 80 else \\\n",
    "             'Good' if score >= 60 else 'Poor' \n",
    "print(score, grade)"
   ]
  },
  {
   "cell_type": "code",
   "execution_count": null,
   "metadata": {},
   "outputs": [],
   "source": []
  }
 ],
 "metadata": {
  "interpreter": {
   "hash": "e3bde7f9be308a4ed5b677c98eb4e5423d8d4c39cb1152441ce9aa81adc70699"
  },
  "kernelspec": {
   "display_name": "Python 3.8.8 64-bit ('base': conda)",
   "language": "python",
   "name": "python3"
  },
  "language_info": {
   "codemirror_mode": {
    "name": "ipython",
    "version": 3
   },
   "file_extension": ".py",
   "mimetype": "text/x-python",
   "name": "python",
   "nbconvert_exporter": "python",
   "pygments_lexer": "ipython3",
   "version": "3.8.8"
  },
  "orig_nbformat": 4
 },
 "nbformat": 4,
 "nbformat_minor": 2
}
